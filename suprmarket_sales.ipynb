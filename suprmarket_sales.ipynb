{
 "cells": [
  {
   "cell_type": "markdown",
   "metadata": {
    "id": "t-qY4rTrLypi"
   },
   "source": [
    "# Import Libs"
   ]
  },
  {
   "cell_type": "code",
   "execution_count": 1,
   "metadata": {
    "executionInfo": {
     "elapsed": 1221,
     "status": "ok",
     "timestamp": 1676131105391,
     "user": {
      "displayName": "Aliffian Wahyu",
      "userId": "13755439147534261633"
     },
     "user_tz": -420
    },
    "id": "9qoMnkUFIxPY"
   },
   "outputs": [],
   "source": [
    "import numpy as np                                      \n",
    "import pandas as pd                                    \n",
    "import seaborn as sns                                   \n",
    "import matplotlib.pyplot as plt "
   ]
  },
  {
   "cell_type": "markdown",
   "metadata": {
    "id": "uyBsEkYAL-sn"
   },
   "source": [
    "# Data Preparation"
   ]
  },
  {
   "cell_type": "markdown",
   "metadata": {
    "id": "uAnBWOmwjy7W"
   },
   "source": [
    "## Load Data"
   ]
  },
  {
   "cell_type": "code",
   "execution_count": 2,
   "metadata": {
    "colab": {
     "base_uri": "https://localhost:8080/",
     "height": 348
    },
    "executionInfo": {
     "elapsed": 1172,
     "status": "ok",
     "timestamp": 1676131108474,
     "user": {
      "displayName": "Aliffian Wahyu",
      "userId": "13755439147534261633"
     },
     "user_tz": -420
    },
    "id": "5He5Zd5sJK-Q",
    "outputId": "5f5ada11-f581-43a3-8642-fd926001f47e"
   },
   "outputs": [
    {
     "data": {
      "text/html": [
       "<style type=\"text/css\">\n",
       "#T_cb95e_row0_col6 {\n",
       "  background-color: #1272b1;\n",
       "  color: #f1f1f1;\n",
       "}\n",
       "#T_cb95e_row0_col7, #T_cb95e_row2_col7, #T_cb95e_row4_col7 {\n",
       "  background-color: #42a6cc;\n",
       "  color: #f1f1f1;\n",
       "}\n",
       "#T_cb95e_row0_col8, #T_cb95e_row0_col9, #T_cb95e_row0_col13, #T_cb95e_row0_col15 {\n",
       "  background-color: #1070b0;\n",
       "  color: #f1f1f1;\n",
       "}\n",
       "#T_cb95e_row0_col14, #T_cb95e_row1_col6, #T_cb95e_row1_col7, #T_cb95e_row1_col8, #T_cb95e_row1_col9, #T_cb95e_row1_col13, #T_cb95e_row1_col14, #T_cb95e_row1_col15, #T_cb95e_row2_col14, #T_cb95e_row3_col14, #T_cb95e_row4_col14, #T_cb95e_row4_col16 {\n",
       "  background-color: #f7fcf0;\n",
       "  color: #000000;\n",
       "}\n",
       "#T_cb95e_row0_col16 {\n",
       "  background-color: #0864a8;\n",
       "  color: #f1f1f1;\n",
       "}\n",
       "#T_cb95e_row1_col16, #T_cb95e_row3_col7, #T_cb95e_row4_col6, #T_cb95e_row4_col8, #T_cb95e_row4_col9, #T_cb95e_row4_col13, #T_cb95e_row4_col15 {\n",
       "  background-color: #084081;\n",
       "  color: #f1f1f1;\n",
       "}\n",
       "#T_cb95e_row2_col6 {\n",
       "  background-color: #92d5bc;\n",
       "  color: #000000;\n",
       "}\n",
       "#T_cb95e_row2_col8, #T_cb95e_row2_col9, #T_cb95e_row2_col13, #T_cb95e_row2_col15 {\n",
       "  background-color: #86d0c0;\n",
       "  color: #000000;\n",
       "}\n",
       "#T_cb95e_row2_col16 {\n",
       "  background-color: #7fcdc3;\n",
       "  color: #000000;\n",
       "}\n",
       "#T_cb95e_row3_col6 {\n",
       "  background-color: #56b7d0;\n",
       "  color: #f1f1f1;\n",
       "}\n",
       "#T_cb95e_row3_col8, #T_cb95e_row3_col9, #T_cb95e_row3_col13, #T_cb95e_row3_col15 {\n",
       "  background-color: #2f90c0;\n",
       "  color: #f1f1f1;\n",
       "}\n",
       "#T_cb95e_row3_col16 {\n",
       "  background-color: #3395c3;\n",
       "  color: #f1f1f1;\n",
       "}\n",
       "</style>\n",
       "<table id=\"T_cb95e_\">\n",
       "  <thead>\n",
       "    <tr>\n",
       "      <th class=\"col_heading level0 col0\" >Invoice ID</th>\n",
       "      <th class=\"col_heading level0 col1\" >Branch</th>\n",
       "      <th class=\"col_heading level0 col2\" >City</th>\n",
       "      <th class=\"col_heading level0 col3\" >Customer type</th>\n",
       "      <th class=\"col_heading level0 col4\" >Gender</th>\n",
       "      <th class=\"col_heading level0 col5\" >Product line</th>\n",
       "      <th class=\"col_heading level0 col6\" >Unit price</th>\n",
       "      <th class=\"col_heading level0 col7\" >Quantity</th>\n",
       "      <th class=\"col_heading level0 col8\" >Tax 5%</th>\n",
       "      <th class=\"col_heading level0 col9\" >Total</th>\n",
       "      <th class=\"col_heading level0 col10\" >Date</th>\n",
       "      <th class=\"col_heading level0 col11\" >Time</th>\n",
       "      <th class=\"col_heading level0 col12\" >Payment</th>\n",
       "      <th class=\"col_heading level0 col13\" >cogs</th>\n",
       "      <th class=\"col_heading level0 col14\" >gross margin percentage</th>\n",
       "      <th class=\"col_heading level0 col15\" >gross income</th>\n",
       "      <th class=\"col_heading level0 col16\" >Rating</th>\n",
       "    </tr>\n",
       "  </thead>\n",
       "  <tbody>\n",
       "    <tr>\n",
       "      <td id=\"T_cb95e_row0_col0\" class=\"data row0 col0\" >750-67-8428</td>\n",
       "      <td id=\"T_cb95e_row0_col1\" class=\"data row0 col1\" >A</td>\n",
       "      <td id=\"T_cb95e_row0_col2\" class=\"data row0 col2\" >Yangon</td>\n",
       "      <td id=\"T_cb95e_row0_col3\" class=\"data row0 col3\" >Member</td>\n",
       "      <td id=\"T_cb95e_row0_col4\" class=\"data row0 col4\" >Female</td>\n",
       "      <td id=\"T_cb95e_row0_col5\" class=\"data row0 col5\" >Health and beauty</td>\n",
       "      <td id=\"T_cb95e_row0_col6\" class=\"data row0 col6\" >74.690000</td>\n",
       "      <td id=\"T_cb95e_row0_col7\" class=\"data row0 col7\" >7</td>\n",
       "      <td id=\"T_cb95e_row0_col8\" class=\"data row0 col8\" >26.141500</td>\n",
       "      <td id=\"T_cb95e_row0_col9\" class=\"data row0 col9\" >548.971500</td>\n",
       "      <td id=\"T_cb95e_row0_col10\" class=\"data row0 col10\" >1/5/2019</td>\n",
       "      <td id=\"T_cb95e_row0_col11\" class=\"data row0 col11\" >13:08</td>\n",
       "      <td id=\"T_cb95e_row0_col12\" class=\"data row0 col12\" >Ewallet</td>\n",
       "      <td id=\"T_cb95e_row0_col13\" class=\"data row0 col13\" >522.830000</td>\n",
       "      <td id=\"T_cb95e_row0_col14\" class=\"data row0 col14\" >4.761905</td>\n",
       "      <td id=\"T_cb95e_row0_col15\" class=\"data row0 col15\" >26.141500</td>\n",
       "      <td id=\"T_cb95e_row0_col16\" class=\"data row0 col16\" >9.100000</td>\n",
       "    </tr>\n",
       "    <tr>\n",
       "      <td id=\"T_cb95e_row1_col0\" class=\"data row1 col0\" >226-31-3081</td>\n",
       "      <td id=\"T_cb95e_row1_col1\" class=\"data row1 col1\" >C</td>\n",
       "      <td id=\"T_cb95e_row1_col2\" class=\"data row1 col2\" >Naypyitaw</td>\n",
       "      <td id=\"T_cb95e_row1_col3\" class=\"data row1 col3\" >Normal</td>\n",
       "      <td id=\"T_cb95e_row1_col4\" class=\"data row1 col4\" >Female</td>\n",
       "      <td id=\"T_cb95e_row1_col5\" class=\"data row1 col5\" >Electronic accessories</td>\n",
       "      <td id=\"T_cb95e_row1_col6\" class=\"data row1 col6\" >15.280000</td>\n",
       "      <td id=\"T_cb95e_row1_col7\" class=\"data row1 col7\" >5</td>\n",
       "      <td id=\"T_cb95e_row1_col8\" class=\"data row1 col8\" >3.820000</td>\n",
       "      <td id=\"T_cb95e_row1_col9\" class=\"data row1 col9\" >80.220000</td>\n",
       "      <td id=\"T_cb95e_row1_col10\" class=\"data row1 col10\" >3/8/2019</td>\n",
       "      <td id=\"T_cb95e_row1_col11\" class=\"data row1 col11\" >10:29</td>\n",
       "      <td id=\"T_cb95e_row1_col12\" class=\"data row1 col12\" >Cash</td>\n",
       "      <td id=\"T_cb95e_row1_col13\" class=\"data row1 col13\" >76.400000</td>\n",
       "      <td id=\"T_cb95e_row1_col14\" class=\"data row1 col14\" >4.761905</td>\n",
       "      <td id=\"T_cb95e_row1_col15\" class=\"data row1 col15\" >3.820000</td>\n",
       "      <td id=\"T_cb95e_row1_col16\" class=\"data row1 col16\" >9.600000</td>\n",
       "    </tr>\n",
       "    <tr>\n",
       "      <td id=\"T_cb95e_row2_col0\" class=\"data row2 col0\" >631-41-3108</td>\n",
       "      <td id=\"T_cb95e_row2_col1\" class=\"data row2 col1\" >A</td>\n",
       "      <td id=\"T_cb95e_row2_col2\" class=\"data row2 col2\" >Yangon</td>\n",
       "      <td id=\"T_cb95e_row2_col3\" class=\"data row2 col3\" >Normal</td>\n",
       "      <td id=\"T_cb95e_row2_col4\" class=\"data row2 col4\" >Male</td>\n",
       "      <td id=\"T_cb95e_row2_col5\" class=\"data row2 col5\" >Home and lifestyle</td>\n",
       "      <td id=\"T_cb95e_row2_col6\" class=\"data row2 col6\" >46.330000</td>\n",
       "      <td id=\"T_cb95e_row2_col7\" class=\"data row2 col7\" >7</td>\n",
       "      <td id=\"T_cb95e_row2_col8\" class=\"data row2 col8\" >16.215500</td>\n",
       "      <td id=\"T_cb95e_row2_col9\" class=\"data row2 col9\" >340.525500</td>\n",
       "      <td id=\"T_cb95e_row2_col10\" class=\"data row2 col10\" >3/3/2019</td>\n",
       "      <td id=\"T_cb95e_row2_col11\" class=\"data row2 col11\" >13:23</td>\n",
       "      <td id=\"T_cb95e_row2_col12\" class=\"data row2 col12\" >Credit card</td>\n",
       "      <td id=\"T_cb95e_row2_col13\" class=\"data row2 col13\" >324.310000</td>\n",
       "      <td id=\"T_cb95e_row2_col14\" class=\"data row2 col14\" >4.761905</td>\n",
       "      <td id=\"T_cb95e_row2_col15\" class=\"data row2 col15\" >16.215500</td>\n",
       "      <td id=\"T_cb95e_row2_col16\" class=\"data row2 col16\" >7.400000</td>\n",
       "    </tr>\n",
       "    <tr>\n",
       "      <td id=\"T_cb95e_row3_col0\" class=\"data row3 col0\" >123-19-1176</td>\n",
       "      <td id=\"T_cb95e_row3_col1\" class=\"data row3 col1\" >A</td>\n",
       "      <td id=\"T_cb95e_row3_col2\" class=\"data row3 col2\" >Yangon</td>\n",
       "      <td id=\"T_cb95e_row3_col3\" class=\"data row3 col3\" >Member</td>\n",
       "      <td id=\"T_cb95e_row3_col4\" class=\"data row3 col4\" >Male</td>\n",
       "      <td id=\"T_cb95e_row3_col5\" class=\"data row3 col5\" >Health and beauty</td>\n",
       "      <td id=\"T_cb95e_row3_col6\" class=\"data row3 col6\" >58.220000</td>\n",
       "      <td id=\"T_cb95e_row3_col7\" class=\"data row3 col7\" >8</td>\n",
       "      <td id=\"T_cb95e_row3_col8\" class=\"data row3 col8\" >23.288000</td>\n",
       "      <td id=\"T_cb95e_row3_col9\" class=\"data row3 col9\" >489.048000</td>\n",
       "      <td id=\"T_cb95e_row3_col10\" class=\"data row3 col10\" >1/27/2019</td>\n",
       "      <td id=\"T_cb95e_row3_col11\" class=\"data row3 col11\" >20:33</td>\n",
       "      <td id=\"T_cb95e_row3_col12\" class=\"data row3 col12\" >Ewallet</td>\n",
       "      <td id=\"T_cb95e_row3_col13\" class=\"data row3 col13\" >465.760000</td>\n",
       "      <td id=\"T_cb95e_row3_col14\" class=\"data row3 col14\" >4.761905</td>\n",
       "      <td id=\"T_cb95e_row3_col15\" class=\"data row3 col15\" >23.288000</td>\n",
       "      <td id=\"T_cb95e_row3_col16\" class=\"data row3 col16\" >8.400000</td>\n",
       "    </tr>\n",
       "    <tr>\n",
       "      <td id=\"T_cb95e_row4_col0\" class=\"data row4 col0\" >373-73-7910</td>\n",
       "      <td id=\"T_cb95e_row4_col1\" class=\"data row4 col1\" >A</td>\n",
       "      <td id=\"T_cb95e_row4_col2\" class=\"data row4 col2\" >Yangon</td>\n",
       "      <td id=\"T_cb95e_row4_col3\" class=\"data row4 col3\" >Normal</td>\n",
       "      <td id=\"T_cb95e_row4_col4\" class=\"data row4 col4\" >Male</td>\n",
       "      <td id=\"T_cb95e_row4_col5\" class=\"data row4 col5\" >Sports and travel</td>\n",
       "      <td id=\"T_cb95e_row4_col6\" class=\"data row4 col6\" >86.310000</td>\n",
       "      <td id=\"T_cb95e_row4_col7\" class=\"data row4 col7\" >7</td>\n",
       "      <td id=\"T_cb95e_row4_col8\" class=\"data row4 col8\" >30.208500</td>\n",
       "      <td id=\"T_cb95e_row4_col9\" class=\"data row4 col9\" >634.378500</td>\n",
       "      <td id=\"T_cb95e_row4_col10\" class=\"data row4 col10\" >2/8/2019</td>\n",
       "      <td id=\"T_cb95e_row4_col11\" class=\"data row4 col11\" >10:37</td>\n",
       "      <td id=\"T_cb95e_row4_col12\" class=\"data row4 col12\" >Ewallet</td>\n",
       "      <td id=\"T_cb95e_row4_col13\" class=\"data row4 col13\" >604.170000</td>\n",
       "      <td id=\"T_cb95e_row4_col14\" class=\"data row4 col14\" >4.761905</td>\n",
       "      <td id=\"T_cb95e_row4_col15\" class=\"data row4 col15\" >30.208500</td>\n",
       "      <td id=\"T_cb95e_row4_col16\" class=\"data row4 col16\" >5.300000</td>\n",
       "    </tr>\n",
       "  </tbody>\n",
       "</table>\n"
      ],
      "text/plain": [
       "<pandas.io.formats.style.Styler at 0x2999e897c70>"
      ]
     },
     "execution_count": 2,
     "metadata": {},
     "output_type": "execute_result"
    }
   ],
   "source": [
    "df = pd.read_csv('supermarket_sales.csv')\n",
    "df.head().style.background_gradient(cmap='GnBu').hide_index()"
   ]
  },
  {
   "cell_type": "code",
   "execution_count": 3,
   "metadata": {
    "colab": {
     "base_uri": "https://localhost:8080/"
    },
    "executionInfo": {
     "elapsed": 123,
     "status": "ok",
     "timestamp": 1675937694258,
     "user": {
      "displayName": "Aliffian Wahyu",
      "userId": "13755439147534261633"
     },
     "user_tz": -420
    },
    "id": "-wd2RM8-KxFU",
    "outputId": "d00aa5aa-6378-44d0-87d5-81395e181951"
   },
   "outputs": [
    {
     "data": {
      "text/plain": [
       "(1000, 17)"
      ]
     },
     "execution_count": 3,
     "metadata": {},
     "output_type": "execute_result"
    }
   ],
   "source": [
    "df.shape"
   ]
  },
  {
   "cell_type": "markdown",
   "metadata": {
    "id": "JlQMY7BnkDM4"
   },
   "source": [
    "## Data Description"
   ]
  },
  {
   "cell_type": "code",
   "execution_count": 4,
   "metadata": {
    "colab": {
     "base_uri": "https://localhost:8080/",
     "height": 300
    },
    "executionInfo": {
     "elapsed": 121,
     "status": "ok",
     "timestamp": 1675937694260,
     "user": {
      "displayName": "Aliffian Wahyu",
      "userId": "13755439147534261633"
     },
     "user_tz": -420
    },
    "id": "mq-NBO9DLTgK",
    "outputId": "041fd521-be59-4884-f936-68df96ce751a"
   },
   "outputs": [
    {
     "data": {
      "text/html": [
       "<div>\n",
       "<style scoped>\n",
       "    .dataframe tbody tr th:only-of-type {\n",
       "        vertical-align: middle;\n",
       "    }\n",
       "\n",
       "    .dataframe tbody tr th {\n",
       "        vertical-align: top;\n",
       "    }\n",
       "\n",
       "    .dataframe thead th {\n",
       "        text-align: right;\n",
       "    }\n",
       "</style>\n",
       "<table border=\"1\" class=\"dataframe\">\n",
       "  <thead>\n",
       "    <tr style=\"text-align: right;\">\n",
       "      <th></th>\n",
       "      <th>Unit price</th>\n",
       "      <th>Quantity</th>\n",
       "      <th>Tax 5%</th>\n",
       "      <th>Total</th>\n",
       "      <th>cogs</th>\n",
       "      <th>gross margin percentage</th>\n",
       "      <th>gross income</th>\n",
       "      <th>Rating</th>\n",
       "    </tr>\n",
       "  </thead>\n",
       "  <tbody>\n",
       "    <tr>\n",
       "      <th>count</th>\n",
       "      <td>1000.000000</td>\n",
       "      <td>1000.000000</td>\n",
       "      <td>1000.000000</td>\n",
       "      <td>1000.000000</td>\n",
       "      <td>1000.00000</td>\n",
       "      <td>1.000000e+03</td>\n",
       "      <td>1000.000000</td>\n",
       "      <td>1000.00000</td>\n",
       "    </tr>\n",
       "    <tr>\n",
       "      <th>mean</th>\n",
       "      <td>55.672130</td>\n",
       "      <td>5.510000</td>\n",
       "      <td>15.379369</td>\n",
       "      <td>322.966749</td>\n",
       "      <td>307.58738</td>\n",
       "      <td>4.761905e+00</td>\n",
       "      <td>15.379369</td>\n",
       "      <td>6.97270</td>\n",
       "    </tr>\n",
       "    <tr>\n",
       "      <th>std</th>\n",
       "      <td>26.494628</td>\n",
       "      <td>2.923431</td>\n",
       "      <td>11.708825</td>\n",
       "      <td>245.885335</td>\n",
       "      <td>234.17651</td>\n",
       "      <td>6.131498e-14</td>\n",
       "      <td>11.708825</td>\n",
       "      <td>1.71858</td>\n",
       "    </tr>\n",
       "    <tr>\n",
       "      <th>min</th>\n",
       "      <td>10.080000</td>\n",
       "      <td>1.000000</td>\n",
       "      <td>0.508500</td>\n",
       "      <td>10.678500</td>\n",
       "      <td>10.17000</td>\n",
       "      <td>4.761905e+00</td>\n",
       "      <td>0.508500</td>\n",
       "      <td>4.00000</td>\n",
       "    </tr>\n",
       "    <tr>\n",
       "      <th>25%</th>\n",
       "      <td>32.875000</td>\n",
       "      <td>3.000000</td>\n",
       "      <td>5.924875</td>\n",
       "      <td>124.422375</td>\n",
       "      <td>118.49750</td>\n",
       "      <td>4.761905e+00</td>\n",
       "      <td>5.924875</td>\n",
       "      <td>5.50000</td>\n",
       "    </tr>\n",
       "    <tr>\n",
       "      <th>50%</th>\n",
       "      <td>55.230000</td>\n",
       "      <td>5.000000</td>\n",
       "      <td>12.088000</td>\n",
       "      <td>253.848000</td>\n",
       "      <td>241.76000</td>\n",
       "      <td>4.761905e+00</td>\n",
       "      <td>12.088000</td>\n",
       "      <td>7.00000</td>\n",
       "    </tr>\n",
       "    <tr>\n",
       "      <th>75%</th>\n",
       "      <td>77.935000</td>\n",
       "      <td>8.000000</td>\n",
       "      <td>22.445250</td>\n",
       "      <td>471.350250</td>\n",
       "      <td>448.90500</td>\n",
       "      <td>4.761905e+00</td>\n",
       "      <td>22.445250</td>\n",
       "      <td>8.50000</td>\n",
       "    </tr>\n",
       "    <tr>\n",
       "      <th>max</th>\n",
       "      <td>99.960000</td>\n",
       "      <td>10.000000</td>\n",
       "      <td>49.650000</td>\n",
       "      <td>1042.650000</td>\n",
       "      <td>993.00000</td>\n",
       "      <td>4.761905e+00</td>\n",
       "      <td>49.650000</td>\n",
       "      <td>10.00000</td>\n",
       "    </tr>\n",
       "  </tbody>\n",
       "</table>\n",
       "</div>"
      ],
      "text/plain": [
       "        Unit price     Quantity       Tax 5%        Total        cogs  \\\n",
       "count  1000.000000  1000.000000  1000.000000  1000.000000  1000.00000   \n",
       "mean     55.672130     5.510000    15.379369   322.966749   307.58738   \n",
       "std      26.494628     2.923431    11.708825   245.885335   234.17651   \n",
       "min      10.080000     1.000000     0.508500    10.678500    10.17000   \n",
       "25%      32.875000     3.000000     5.924875   124.422375   118.49750   \n",
       "50%      55.230000     5.000000    12.088000   253.848000   241.76000   \n",
       "75%      77.935000     8.000000    22.445250   471.350250   448.90500   \n",
       "max      99.960000    10.000000    49.650000  1042.650000   993.00000   \n",
       "\n",
       "       gross margin percentage  gross income      Rating  \n",
       "count             1.000000e+03   1000.000000  1000.00000  \n",
       "mean              4.761905e+00     15.379369     6.97270  \n",
       "std               6.131498e-14     11.708825     1.71858  \n",
       "min               4.761905e+00      0.508500     4.00000  \n",
       "25%               4.761905e+00      5.924875     5.50000  \n",
       "50%               4.761905e+00     12.088000     7.00000  \n",
       "75%               4.761905e+00     22.445250     8.50000  \n",
       "max               4.761905e+00     49.650000    10.00000  "
      ]
     },
     "execution_count": 4,
     "metadata": {},
     "output_type": "execute_result"
    }
   ],
   "source": [
    "df.describe()"
   ]
  },
  {
   "cell_type": "markdown",
   "metadata": {
    "id": "wsTtv5wUkapf"
   },
   "source": [
    "## Data Information"
   ]
  },
  {
   "cell_type": "code",
   "execution_count": 5,
   "metadata": {
    "colab": {
     "base_uri": "https://localhost:8080/"
    },
    "executionInfo": {
     "elapsed": 119,
     "status": "ok",
     "timestamp": 1675937694261,
     "user": {
      "displayName": "Aliffian Wahyu",
      "userId": "13755439147534261633"
     },
     "user_tz": -420
    },
    "id": "qH8HZSAyJjj-",
    "outputId": "8d7a70b6-2f93-487a-d7ae-341d0c06d51e"
   },
   "outputs": [
    {
     "name": "stdout",
     "output_type": "stream",
     "text": [
      "<class 'pandas.core.frame.DataFrame'>\n",
      "RangeIndex: 1000 entries, 0 to 999\n",
      "Data columns (total 17 columns):\n",
      " #   Column                   Non-Null Count  Dtype  \n",
      "---  ------                   --------------  -----  \n",
      " 0   Invoice ID               1000 non-null   object \n",
      " 1   Branch                   1000 non-null   object \n",
      " 2   City                     1000 non-null   object \n",
      " 3   Customer type            1000 non-null   object \n",
      " 4   Gender                   1000 non-null   object \n",
      " 5   Product line             1000 non-null   object \n",
      " 6   Unit price               1000 non-null   float64\n",
      " 7   Quantity                 1000 non-null   int64  \n",
      " 8   Tax 5%                   1000 non-null   float64\n",
      " 9   Total                    1000 non-null   float64\n",
      " 10  Date                     1000 non-null   object \n",
      " 11  Time                     1000 non-null   object \n",
      " 12  Payment                  1000 non-null   object \n",
      " 13  cogs                     1000 non-null   float64\n",
      " 14  gross margin percentage  1000 non-null   float64\n",
      " 15  gross income             1000 non-null   float64\n",
      " 16  Rating                   1000 non-null   float64\n",
      "dtypes: float64(7), int64(1), object(9)\n",
      "memory usage: 132.9+ KB\n"
     ]
    }
   ],
   "source": [
    "df.info()"
   ]
  },
  {
   "cell_type": "markdown",
   "metadata": {
    "id": "gGG0iARskixH"
   },
   "source": [
    "\n",
    "\n",
    "*   no missing value found\n",
    "*   need to merge **Date** and **Time** column, then change column type from *object* to *datetime*\n",
    "\n"
   ]
  },
  {
   "cell_type": "code",
   "execution_count": 6,
   "metadata": {
    "colab": {
     "base_uri": "https://localhost:8080/"
    },
    "executionInfo": {
     "elapsed": 124,
     "status": "ok",
     "timestamp": 1675937694272,
     "user": {
      "displayName": "Aliffian Wahyu",
      "userId": "13755439147534261633"
     },
     "user_tz": -420
    },
    "id": "uusAHY_BmVZi",
    "outputId": "aeae8575-7d9d-4a8d-ffa0-439b777b0b14"
   },
   "outputs": [
    {
     "data": {
      "text/plain": [
       "Index(['Invoice ID', 'Branch', 'City', 'Customer type', 'Gender',\n",
       "       'Product line', 'Unit price', 'Quantity', 'Tax 5%', 'Total', 'Date',\n",
       "       'Time', 'Payment', 'cogs', 'gross margin percentage', 'gross income',\n",
       "       'Rating'],\n",
       "      dtype='object')"
      ]
     },
     "execution_count": 6,
     "metadata": {},
     "output_type": "execute_result"
    }
   ],
   "source": [
    "df.columns"
   ]
  },
  {
   "cell_type": "markdown",
   "metadata": {
    "id": "EABSjdQullcm"
   },
   "source": [
    "## Data Cleanup and Manipulation"
   ]
  },
  {
   "cell_type": "code",
   "execution_count": 7,
   "metadata": {
    "executionInfo": {
     "elapsed": 440,
     "status": "ok",
     "timestamp": 1676131119125,
     "user": {
      "displayName": "Aliffian Wahyu",
      "userId": "13755439147534261633"
     },
     "user_tz": -420
    },
    "id": "CJjvjfGex2ux"
   },
   "outputs": [],
   "source": [
    "# Merge Date and Time column\n",
    "df['Date time']=df['Date'] +\" \"+ df['Time']"
   ]
  },
  {
   "cell_type": "code",
   "execution_count": 8,
   "metadata": {
    "executionInfo": {
     "elapsed": 5,
     "status": "ok",
     "timestamp": 1676131120879,
     "user": {
      "displayName": "Aliffian Wahyu",
      "userId": "13755439147534261633"
     },
     "user_tz": -420
    },
    "id": "6J09ccwsJ80R"
   },
   "outputs": [],
   "source": [
    "# Change Date time column type\n",
    "df['Date time'] = pd.to_datetime(df['Date time'])\n",
    "df['Date'] = pd.to_datetime(df['Date'])"
   ]
  },
  {
   "cell_type": "code",
   "execution_count": 9,
   "metadata": {
    "colab": {
     "base_uri": "https://localhost:8080/"
    },
    "executionInfo": {
     "elapsed": 127,
     "status": "ok",
     "timestamp": 1675937694283,
     "user": {
      "displayName": "Aliffian Wahyu",
      "userId": "13755439147534261633"
     },
     "user_tz": -420
    },
    "id": "Vu2sVed8ya8j",
    "outputId": "9d0d856b-ace5-4127-e785-e8879f382b6b"
   },
   "outputs": [
    {
     "name": "stdout",
     "output_type": "stream",
     "text": [
      "<class 'pandas.core.frame.DataFrame'>\n",
      "RangeIndex: 1000 entries, 0 to 999\n",
      "Data columns (total 1 columns):\n",
      " #   Column     Non-Null Count  Dtype         \n",
      "---  ------     --------------  -----         \n",
      " 0   Date time  1000 non-null   datetime64[ns]\n",
      "dtypes: datetime64[ns](1)\n",
      "memory usage: 7.9 KB\n"
     ]
    }
   ],
   "source": [
    "df[['Date time']].info()"
   ]
  },
  {
   "cell_type": "code",
   "execution_count": 10,
   "metadata": {
    "colab": {
     "base_uri": "https://localhost:8080/",
     "height": 206
    },
    "executionInfo": {
     "elapsed": 123,
     "status": "ok",
     "timestamp": 1675937694284,
     "user": {
      "displayName": "Aliffian Wahyu",
      "userId": "13755439147534261633"
     },
     "user_tz": -420
    },
    "id": "8jSoyiInveAg",
    "outputId": "3aa4888a-a212-4fcd-b195-34b848ac0056"
   },
   "outputs": [
    {
     "data": {
      "text/html": [
       "<div>\n",
       "<style scoped>\n",
       "    .dataframe tbody tr th:only-of-type {\n",
       "        vertical-align: middle;\n",
       "    }\n",
       "\n",
       "    .dataframe tbody tr th {\n",
       "        vertical-align: top;\n",
       "    }\n",
       "\n",
       "    .dataframe thead th {\n",
       "        text-align: right;\n",
       "    }\n",
       "</style>\n",
       "<table border=\"1\" class=\"dataframe\">\n",
       "  <thead>\n",
       "    <tr style=\"text-align: right;\">\n",
       "      <th></th>\n",
       "      <th>Date time</th>\n",
       "    </tr>\n",
       "  </thead>\n",
       "  <tbody>\n",
       "    <tr>\n",
       "      <th>0</th>\n",
       "      <td>2019-01-05 13:08:00</td>\n",
       "    </tr>\n",
       "    <tr>\n",
       "      <th>1</th>\n",
       "      <td>2019-03-08 10:29:00</td>\n",
       "    </tr>\n",
       "    <tr>\n",
       "      <th>2</th>\n",
       "      <td>2019-03-03 13:23:00</td>\n",
       "    </tr>\n",
       "    <tr>\n",
       "      <th>3</th>\n",
       "      <td>2019-01-27 20:33:00</td>\n",
       "    </tr>\n",
       "    <tr>\n",
       "      <th>4</th>\n",
       "      <td>2019-02-08 10:37:00</td>\n",
       "    </tr>\n",
       "  </tbody>\n",
       "</table>\n",
       "</div>"
      ],
      "text/plain": [
       "            Date time\n",
       "0 2019-01-05 13:08:00\n",
       "1 2019-03-08 10:29:00\n",
       "2 2019-03-03 13:23:00\n",
       "3 2019-01-27 20:33:00\n",
       "4 2019-02-08 10:37:00"
      ]
     },
     "execution_count": 10,
     "metadata": {},
     "output_type": "execute_result"
    }
   ],
   "source": [
    "df[['Date time']].head()"
   ]
  },
  {
   "cell_type": "code",
   "execution_count": 11,
   "metadata": {
    "colab": {
     "base_uri": "https://localhost:8080/"
    },
    "executionInfo": {
     "elapsed": 121,
     "status": "ok",
     "timestamp": 1675937694285,
     "user": {
      "displayName": "Aliffian Wahyu",
      "userId": "13755439147534261633"
     },
     "user_tz": -420
    },
    "id": "lwMPGreRYok9",
    "outputId": "39ec80ff-bec9-471b-8caa-3867c1f0d525"
   },
   "outputs": [
    {
     "data": {
      "text/plain": [
       "0"
      ]
     },
     "execution_count": 11,
     "metadata": {},
     "output_type": "execute_result"
    }
   ],
   "source": [
    "# Check duplicate\n",
    "df['Invoice ID'].duplicated().sum()"
   ]
  },
  {
   "cell_type": "code",
   "execution_count": 12,
   "metadata": {
    "colab": {
     "base_uri": "https://localhost:8080/"
    },
    "executionInfo": {
     "elapsed": 118,
     "status": "ok",
     "timestamp": 1675937694287,
     "user": {
      "displayName": "Aliffian Wahyu",
      "userId": "13755439147534261633"
     },
     "user_tz": -420
    },
    "id": "irpywm7tm8pF",
    "outputId": "bfa9e4da-aa4a-4019-f4df-38695e02f153"
   },
   "outputs": [
    {
     "name": "stdout",
     "output_type": "stream",
     "text": [
      "A    340\n",
      "B    332\n",
      "C    328\n",
      "Name: Branch, dtype: int64 \n",
      "\n",
      "Yangon       340\n",
      "Mandalay     332\n",
      "Naypyitaw    328\n",
      "Name: City, dtype: int64 \n",
      "\n",
      "Member    501\n",
      "Normal    499\n",
      "Name: Customer type, dtype: int64 \n",
      "\n",
      "Female    501\n",
      "Male      499\n",
      "Name: Gender, dtype: int64 \n",
      "\n",
      "Fashion accessories       178\n",
      "Food and beverages        174\n",
      "Electronic accessories    170\n",
      "Sports and travel         166\n",
      "Home and lifestyle        160\n",
      "Health and beauty         152\n",
      "Name: Product line, dtype: int64 \n",
      "\n",
      "Ewallet        345\n",
      "Cash           344\n",
      "Credit card    311\n",
      "Name: Payment, dtype: int64 \n",
      "\n"
     ]
    }
   ],
   "source": [
    "# Check typo\n",
    "for col_name in ['Branch', 'City', 'Customer type',\n",
    "       'Gender', 'Product line','Payment']:\n",
    "       print(df[col_name].value_counts(), '\\n')"
   ]
  },
  {
   "cell_type": "code",
   "execution_count": 13,
   "metadata": {
    "executionInfo": {
     "elapsed": 385,
     "status": "ok",
     "timestamp": 1676131130543,
     "user": {
      "displayName": "Aliffian Wahyu",
      "userId": "13755439147534261633"
     },
     "user_tz": -420
    },
    "id": "H7eEYPltqcP6"
   },
   "outputs": [],
   "source": [
    "# Add Month column\n",
    "df['Month'] = df['Date time'].dt.month"
   ]
  },
  {
   "cell_type": "code",
   "execution_count": 14,
   "metadata": {
    "executionInfo": {
     "elapsed": 16,
     "status": "ok",
     "timestamp": 1676131132129,
     "user": {
      "displayName": "Aliffian Wahyu",
      "userId": "13755439147534261633"
     },
     "user_tz": -420
    },
    "id": "1jjJ1jX_wYFS"
   },
   "outputs": [],
   "source": [
    "# Add Hour column\n",
    "df['Hour'] = df['Date time'].dt.hour"
   ]
  },
  {
   "cell_type": "code",
   "execution_count": 15,
   "metadata": {
    "executionInfo": {
     "elapsed": 7,
     "status": "ok",
     "timestamp": 1676131134026,
     "user": {
      "displayName": "Aliffian Wahyu",
      "userId": "13755439147534261633"
     },
     "user_tz": -420
    },
    "id": "HaTf4krmX0qe"
   },
   "outputs": [],
   "source": [
    "# Add Revenue column \n",
    "df['Revenue'] = df['Unit price']*df['Quantity']"
   ]
  },
  {
   "cell_type": "code",
   "execution_count": 16,
   "metadata": {
    "colab": {
     "base_uri": "https://localhost:8080/",
     "height": 376
    },
    "executionInfo": {
     "elapsed": 108,
     "status": "ok",
     "timestamp": 1675937694291,
     "user": {
      "displayName": "Aliffian Wahyu",
      "userId": "13755439147534261633"
     },
     "user_tz": -420
    },
    "id": "WceXVZ-T_P5U",
    "outputId": "d7144e5e-c346-4cff-863a-baebb12b7826"
   },
   "outputs": [
    {
     "data": {
      "text/html": [
       "<div>\n",
       "<style scoped>\n",
       "    .dataframe tbody tr th:only-of-type {\n",
       "        vertical-align: middle;\n",
       "    }\n",
       "\n",
       "    .dataframe tbody tr th {\n",
       "        vertical-align: top;\n",
       "    }\n",
       "\n",
       "    .dataframe thead th {\n",
       "        text-align: right;\n",
       "    }\n",
       "</style>\n",
       "<table border=\"1\" class=\"dataframe\">\n",
       "  <thead>\n",
       "    <tr style=\"text-align: right;\">\n",
       "      <th></th>\n",
       "      <th>Invoice ID</th>\n",
       "      <th>Branch</th>\n",
       "      <th>City</th>\n",
       "      <th>Customer type</th>\n",
       "      <th>Gender</th>\n",
       "      <th>Product line</th>\n",
       "      <th>Unit price</th>\n",
       "      <th>Quantity</th>\n",
       "      <th>Tax 5%</th>\n",
       "      <th>Total</th>\n",
       "      <th>...</th>\n",
       "      <th>Time</th>\n",
       "      <th>Payment</th>\n",
       "      <th>cogs</th>\n",
       "      <th>gross margin percentage</th>\n",
       "      <th>gross income</th>\n",
       "      <th>Rating</th>\n",
       "      <th>Date time</th>\n",
       "      <th>Month</th>\n",
       "      <th>Hour</th>\n",
       "      <th>Revenue</th>\n",
       "    </tr>\n",
       "  </thead>\n",
       "  <tbody>\n",
       "    <tr>\n",
       "      <th>0</th>\n",
       "      <td>750-67-8428</td>\n",
       "      <td>A</td>\n",
       "      <td>Yangon</td>\n",
       "      <td>Member</td>\n",
       "      <td>Female</td>\n",
       "      <td>Health and beauty</td>\n",
       "      <td>74.69</td>\n",
       "      <td>7</td>\n",
       "      <td>26.1415</td>\n",
       "      <td>548.9715</td>\n",
       "      <td>...</td>\n",
       "      <td>13:08</td>\n",
       "      <td>Ewallet</td>\n",
       "      <td>522.83</td>\n",
       "      <td>4.761905</td>\n",
       "      <td>26.1415</td>\n",
       "      <td>9.1</td>\n",
       "      <td>2019-01-05 13:08:00</td>\n",
       "      <td>1</td>\n",
       "      <td>13</td>\n",
       "      <td>522.83</td>\n",
       "    </tr>\n",
       "    <tr>\n",
       "      <th>1</th>\n",
       "      <td>226-31-3081</td>\n",
       "      <td>C</td>\n",
       "      <td>Naypyitaw</td>\n",
       "      <td>Normal</td>\n",
       "      <td>Female</td>\n",
       "      <td>Electronic accessories</td>\n",
       "      <td>15.28</td>\n",
       "      <td>5</td>\n",
       "      <td>3.8200</td>\n",
       "      <td>80.2200</td>\n",
       "      <td>...</td>\n",
       "      <td>10:29</td>\n",
       "      <td>Cash</td>\n",
       "      <td>76.40</td>\n",
       "      <td>4.761905</td>\n",
       "      <td>3.8200</td>\n",
       "      <td>9.6</td>\n",
       "      <td>2019-03-08 10:29:00</td>\n",
       "      <td>3</td>\n",
       "      <td>10</td>\n",
       "      <td>76.40</td>\n",
       "    </tr>\n",
       "    <tr>\n",
       "      <th>2</th>\n",
       "      <td>631-41-3108</td>\n",
       "      <td>A</td>\n",
       "      <td>Yangon</td>\n",
       "      <td>Normal</td>\n",
       "      <td>Male</td>\n",
       "      <td>Home and lifestyle</td>\n",
       "      <td>46.33</td>\n",
       "      <td>7</td>\n",
       "      <td>16.2155</td>\n",
       "      <td>340.5255</td>\n",
       "      <td>...</td>\n",
       "      <td>13:23</td>\n",
       "      <td>Credit card</td>\n",
       "      <td>324.31</td>\n",
       "      <td>4.761905</td>\n",
       "      <td>16.2155</td>\n",
       "      <td>7.4</td>\n",
       "      <td>2019-03-03 13:23:00</td>\n",
       "      <td>3</td>\n",
       "      <td>13</td>\n",
       "      <td>324.31</td>\n",
       "    </tr>\n",
       "  </tbody>\n",
       "</table>\n",
       "<p>3 rows × 21 columns</p>\n",
       "</div>"
      ],
      "text/plain": [
       "    Invoice ID Branch       City Customer type  Gender  \\\n",
       "0  750-67-8428      A     Yangon        Member  Female   \n",
       "1  226-31-3081      C  Naypyitaw        Normal  Female   \n",
       "2  631-41-3108      A     Yangon        Normal    Male   \n",
       "\n",
       "             Product line  Unit price  Quantity   Tax 5%     Total  ...  \\\n",
       "0       Health and beauty       74.69         7  26.1415  548.9715  ...   \n",
       "1  Electronic accessories       15.28         5   3.8200   80.2200  ...   \n",
       "2      Home and lifestyle       46.33         7  16.2155  340.5255  ...   \n",
       "\n",
       "    Time      Payment    cogs  gross margin percentage  gross income  Rating  \\\n",
       "0  13:08      Ewallet  522.83                 4.761905       26.1415     9.1   \n",
       "1  10:29         Cash   76.40                 4.761905        3.8200     9.6   \n",
       "2  13:23  Credit card  324.31                 4.761905       16.2155     7.4   \n",
       "\n",
       "            Date time Month  Hour  Revenue  \n",
       "0 2019-01-05 13:08:00     1    13   522.83  \n",
       "1 2019-03-08 10:29:00     3    10    76.40  \n",
       "2 2019-03-03 13:23:00     3    13   324.31  \n",
       "\n",
       "[3 rows x 21 columns]"
      ]
     },
     "execution_count": 16,
     "metadata": {},
     "output_type": "execute_result"
    }
   ],
   "source": [
    "df.head(3)"
   ]
  },
  {
   "cell_type": "markdown",
   "metadata": {
    "id": "ms7w71o7_hNM"
   },
   "source": [
    "* **cogs** column value is equal to **revenue** calculation\n",
    "* **tax** column value is equal to **gross income**\n",
    "* **gross margin percentage** columns are all equal\n",
    "* we will use the **revenue** column instead of the **total** column"
   ]
  },
  {
   "cell_type": "code",
   "execution_count": 17,
   "metadata": {
    "id": "PjDcKw7iBToU"
   },
   "outputs": [],
   "source": [
    "# Remove suspicious and unnecessary columns\n",
    "df.drop(['Tax 5%', 'Total', 'cogs', 'gross margin percentage', 'gross income','Time'], axis=1, inplace=True)"
   ]
  },
  {
   "cell_type": "code",
   "execution_count": 18,
   "metadata": {
    "colab": {
     "base_uri": "https://localhost:8080/",
     "height": 445
    },
    "executionInfo": {
     "elapsed": 109,
     "status": "ok",
     "timestamp": 1675937694297,
     "user": {
      "displayName": "Aliffian Wahyu",
      "userId": "13755439147534261633"
     },
     "user_tz": -420
    },
    "id": "6wXOUSCDJpg_",
    "outputId": "36489b78-63fc-4464-d1b6-a48b4871c9ce"
   },
   "outputs": [
    {
     "data": {
      "text/plain": [
       "<AxesSubplot:>"
      ]
     },
     "execution_count": 18,
     "metadata": {},
     "output_type": "execute_result"
    },
    {
     "data": {
      "image/png": "[encoded data removed]",
      "text/plain": [
       "<Figure size 504x504 with 1 Axes>"
      ]
     },
     "metadata": {
      "needs_background": "light"
     },
     "output_type": "display_data"
    }
   ],
   "source": [
    "# Check outliers\n",
    "check_col = ['Unit price','Quantity','Revenue']\n",
    "df.boxplot(check_col, figsize=(7,7))"
   ]
  },
  {
   "cell_type": "code",
   "execution_count": 19,
   "metadata": {
    "id": "cGtJ_6fpKAfA"
   },
   "outputs": [],
   "source": [
    "# Remove outliers\n",
    "for x in ['Revenue']:\n",
    "    q75,q25 = np.percentile(df.loc[:,x],[75,25])\n",
    "    intr_qr = q75-q25\n",
    " \n",
    "    max = q75+(1.5*intr_qr)\n",
    "    min = q25-(1.5*intr_qr)\n",
    " \n",
    "    df.loc[df[x] < min,x] = np.nan\n",
    "    df.loc[df[x] > max,x] = np.nan"
   ]
  },
  {
   "cell_type": "code",
   "execution_count": 20,
   "metadata": {
    "colab": {
     "base_uri": "https://localhost:8080/"
    },
    "executionInfo": {
     "elapsed": 105,
     "status": "ok",
     "timestamp": 1675937694302,
     "user": {
      "displayName": "Aliffian Wahyu",
      "userId": "13755439147534261633"
     },
     "user_tz": -420
    },
    "id": "aCmInLgOBi-3",
    "outputId": "547bdc54-eec4-4452-f412-2a29093aa107"
   },
   "outputs": [
    {
     "data": {
      "text/plain": [
       "Invoice ID       0\n",
       "Branch           0\n",
       "City             0\n",
       "Customer type    0\n",
       "Gender           0\n",
       "Product line     0\n",
       "Unit price       0\n",
       "Quantity         0\n",
       "Date             0\n",
       "Payment          0\n",
       "Rating           0\n",
       "Date time        0\n",
       "Month            0\n",
       "Hour             0\n",
       "Revenue          9\n",
       "dtype: int64"
      ]
     },
     "execution_count": 20,
     "metadata": {},
     "output_type": "execute_result"
    }
   ],
   "source": [
    "# Check missing value\n",
    "df.isnull().sum()"
   ]
  },
  {
   "cell_type": "code",
   "execution_count": 21,
   "metadata": {
    "colab": {
     "base_uri": "https://localhost:8080/"
    },
    "executionInfo": {
     "elapsed": 110,
     "status": "ok",
     "timestamp": 1675937694311,
     "user": {
      "displayName": "Aliffian Wahyu",
      "userId": "13755439147534261633"
     },
     "user_tz": -420
    },
    "id": "vCcM-USqLKQX",
    "outputId": "76a148fc-d858-4cb1-ca82-e6bbbe50eebc"
   },
   "outputs": [
    {
     "data": {
      "text/plain": [
       "(991, 15)"
      ]
     },
     "execution_count": 21,
     "metadata": {},
     "output_type": "execute_result"
    }
   ],
   "source": [
    "# Remove missing value\n",
    "df = df.dropna(axis=0)\n",
    "df.shape"
   ]
  },
  {
   "cell_type": "code",
   "execution_count": 22,
   "metadata": {
    "colab": {
     "base_uri": "https://localhost:8080/",
     "height": 354
    },
    "executionInfo": {
     "elapsed": 1058,
     "status": "ok",
     "timestamp": 1675937695264,
     "user": {
      "displayName": "Aliffian Wahyu",
      "userId": "13755439147534261633"
     },
     "user_tz": -420
    },
    "id": "SFaY6ea1pzwZ",
    "outputId": "417bbe18-7a26-42d5-9b37-1c5eb6798bd7"
   },
   "outputs": [
    {
     "data": {
      "text/html": [
       "<div>\n",
       "<style scoped>\n",
       "    .dataframe tbody tr th:only-of-type {\n",
       "        vertical-align: middle;\n",
       "    }\n",
       "\n",
       "    .dataframe tbody tr th {\n",
       "        vertical-align: top;\n",
       "    }\n",
       "\n",
       "    .dataframe thead th {\n",
       "        text-align: right;\n",
       "    }\n",
       "</style>\n",
       "<table border=\"1\" class=\"dataframe\">\n",
       "  <thead>\n",
       "    <tr style=\"text-align: right;\">\n",
       "      <th></th>\n",
       "      <th>Invoice ID</th>\n",
       "      <th>Branch</th>\n",
       "      <th>City</th>\n",
       "      <th>Customer type</th>\n",
       "      <th>Gender</th>\n",
       "      <th>Product line</th>\n",
       "      <th>Unit price</th>\n",
       "      <th>Quantity</th>\n",
       "      <th>Date</th>\n",
       "      <th>Payment</th>\n",
       "      <th>Rating</th>\n",
       "      <th>Date time</th>\n",
       "      <th>Month</th>\n",
       "      <th>Hour</th>\n",
       "      <th>Revenue</th>\n",
       "    </tr>\n",
       "  </thead>\n",
       "  <tbody>\n",
       "    <tr>\n",
       "      <th>0</th>\n",
       "      <td>750-67-8428</td>\n",
       "      <td>A</td>\n",
       "      <td>Yangon</td>\n",
       "      <td>Member</td>\n",
       "      <td>Female</td>\n",
       "      <td>Health and beauty</td>\n",
       "      <td>74.69</td>\n",
       "      <td>7</td>\n",
       "      <td>2019-01-05</td>\n",
       "      <td>Ewallet</td>\n",
       "      <td>9.1</td>\n",
       "      <td>2019-01-05 13:08:00</td>\n",
       "      <td>1</td>\n",
       "      <td>13</td>\n",
       "      <td>522.83</td>\n",
       "    </tr>\n",
       "    <tr>\n",
       "      <th>1</th>\n",
       "      <td>226-31-3081</td>\n",
       "      <td>C</td>\n",
       "      <td>Naypyitaw</td>\n",
       "      <td>Normal</td>\n",
       "      <td>Female</td>\n",
       "      <td>Electronic accessories</td>\n",
       "      <td>15.28</td>\n",
       "      <td>5</td>\n",
       "      <td>2019-03-08</td>\n",
       "      <td>Cash</td>\n",
       "      <td>9.6</td>\n",
       "      <td>2019-03-08 10:29:00</td>\n",
       "      <td>3</td>\n",
       "      <td>10</td>\n",
       "      <td>76.40</td>\n",
       "    </tr>\n",
       "    <tr>\n",
       "      <th>2</th>\n",
       "      <td>631-41-3108</td>\n",
       "      <td>A</td>\n",
       "      <td>Yangon</td>\n",
       "      <td>Normal</td>\n",
       "      <td>Male</td>\n",
       "      <td>Home and lifestyle</td>\n",
       "      <td>46.33</td>\n",
       "      <td>7</td>\n",
       "      <td>2019-03-03</td>\n",
       "      <td>Credit card</td>\n",
       "      <td>7.4</td>\n",
       "      <td>2019-03-03 13:23:00</td>\n",
       "      <td>3</td>\n",
       "      <td>13</td>\n",
       "      <td>324.31</td>\n",
       "    </tr>\n",
       "    <tr>\n",
       "      <th>3</th>\n",
       "      <td>123-19-1176</td>\n",
       "      <td>A</td>\n",
       "      <td>Yangon</td>\n",
       "      <td>Member</td>\n",
       "      <td>Male</td>\n",
       "      <td>Health and beauty</td>\n",
       "      <td>58.22</td>\n",
       "      <td>8</td>\n",
       "      <td>2019-01-27</td>\n",
       "      <td>Ewallet</td>\n",
       "      <td>8.4</td>\n",
       "      <td>2019-01-27 20:33:00</td>\n",
       "      <td>1</td>\n",
       "      <td>20</td>\n",
       "      <td>465.76</td>\n",
       "    </tr>\n",
       "    <tr>\n",
       "      <th>4</th>\n",
       "      <td>373-73-7910</td>\n",
       "      <td>A</td>\n",
       "      <td>Yangon</td>\n",
       "      <td>Normal</td>\n",
       "      <td>Male</td>\n",
       "      <td>Sports and travel</td>\n",
       "      <td>86.31</td>\n",
       "      <td>7</td>\n",
       "      <td>2019-02-08</td>\n",
       "      <td>Ewallet</td>\n",
       "      <td>5.3</td>\n",
       "      <td>2019-02-08 10:37:00</td>\n",
       "      <td>2</td>\n",
       "      <td>10</td>\n",
       "      <td>604.17</td>\n",
       "    </tr>\n",
       "  </tbody>\n",
       "</table>\n",
       "</div>"
      ],
      "text/plain": [
       "    Invoice ID Branch       City Customer type  Gender  \\\n",
       "0  750-67-8428      A     Yangon        Member  Female   \n",
       "1  226-31-3081      C  Naypyitaw        Normal  Female   \n",
       "2  631-41-3108      A     Yangon        Normal    Male   \n",
       "3  123-19-1176      A     Yangon        Member    Male   \n",
       "4  373-73-7910      A     Yangon        Normal    Male   \n",
       "\n",
       "             Product line  Unit price  Quantity       Date      Payment  \\\n",
       "0       Health and beauty       74.69         7 2019-01-05      Ewallet   \n",
       "1  Electronic accessories       15.28         5 2019-03-08         Cash   \n",
       "2      Home and lifestyle       46.33         7 2019-03-03  Credit card   \n",
       "3       Health and beauty       58.22         8 2019-01-27      Ewallet   \n",
       "4       Sports and travel       86.31         7 2019-02-08      Ewallet   \n",
       "\n",
       "   Rating           Date time  Month  Hour  Revenue  \n",
       "0     9.1 2019-01-05 13:08:00      1    13   522.83  \n",
       "1     9.6 2019-03-08 10:29:00      3    10    76.40  \n",
       "2     7.4 2019-03-03 13:23:00      3    13   324.31  \n",
       "3     8.4 2019-01-27 20:33:00      1    20   465.76  \n",
       "4     5.3 2019-02-08 10:37:00      2    10   604.17  "
      ]
     },
     "execution_count": 22,
     "metadata": {},
     "output_type": "execute_result"
    }
   ],
   "source": [
    "df.head()"
   ]
  },
  {
   "cell_type": "markdown",
   "metadata": {
    "id": "l-5quw8A0roH"
   },
   "source": [
    "# EDA"
   ]
  },
  {
   "cell_type": "markdown",
   "metadata": {
    "id": "4K0Zr_MTM5K-"
   },
   "source": [
    "### **1. Correlation between columns**"
   ]
  },
  {
   "cell_type": "code",
   "execution_count": 23,
   "metadata": {
    "colab": {
     "base_uri": "https://localhost:8080/"
    },
    "executionInfo": {
     "elapsed": 41,
     "status": "ok",
     "timestamp": 1675937695266,
     "user": {
      "displayName": "Aliffian Wahyu",
      "userId": "13755439147534261633"
     },
     "user_tz": -420
    },
    "id": "mSMMpU7ryifF",
    "outputId": "28770efd-316c-414a-e82f-3da36d454da5"
   },
   "outputs": [
    {
     "data": {
      "image/png": "[encoded data removed]",
      "text/plain": [
       "<Figure size 1800x720 with 2 Axes>"
      ]
     },
     "metadata": {
      "needs_background": "light"
     },
     "output_type": "display_data"
    }
   ],
   "source": [
    "corr = df.corr()\n",
    "mask = np.triu(np.ones_like(corr, dtype=bool))      \n",
    "f, ax = plt.subplots(figsize=(25,10))  \n",
    "sns.heatmap(corr, mask=mask, cmap='GnBu', vmax=.3, center=0, annot=True,square=True, linewidths=.5, cbar_kws={'shrink': .5})\n",
    "plt.show()"
   ]
  },
  {
   "cell_type": "markdown",
   "metadata": {
    "id": "xNYeB5zJ-Ypb"
   },
   "source": [
    "### **2. Overall daily trend**"
   ]
  },
  {
   "cell_type": "code",
   "execution_count": null,
   "metadata": {
    "colab": {
     "base_uri": "https://localhost:8080/"
    },
    "executionInfo": {
     "elapsed": 39,
     "status": "ok",
     "timestamp": 1675937695267,
     "user": {
      "displayName": "Aliffian Wahyu",
      "userId": "13755439147534261633"
     },
     "user_tz": -420
    },
    "id": "Eo1k_8Ss_-QG",
    "outputId": "51635ad8-799d-4e2e-ee78-818ad38f17f1"
   },
   "outputs": [
    {
     "data": {
      "image/png": "[encoded data removed]",
      "text/plain": [
       "<Figure size 1440x360 with 1 Axes>"
      ]
     },
     "metadata": {
      "needs_background": "light"
     },
     "output_type": "display_data"
    }
   ],
   "source": [
    "daily = df.groupby('Date', as_index=False)['Revenue'].sum()\n",
    "\n",
    "plt.figure(figsize=(20,5))\n",
    "plt.plot('Date','Revenue', data=daily)\n",
    "plt.title('Daily Revenue Trend')\n",
    "plt.xlabel('Date')\n",
    "plt.ylabel('Revenue($)')\n",
    "plt.grid()\n",
    "plt.show()"
   ]
  },
  {
   "cell_type": "markdown",
   "metadata": {
    "id": "ul1iLbkEKId_"
   },
   "source": [
    "### **3. Rating per product line**"
   ]
  },
  {
   "cell_type": "code",
   "execution_count": 24,
   "metadata": {
    "colab": {
     "base_uri": "https://localhost:8080/"
    },
    "executionInfo": {
     "elapsed": 519,
     "status": "ok",
     "timestamp": 1675937695750,
     "user": {
      "displayName": "Aliffian Wahyu",
      "userId": "13755439147534261633"
     },
     "user_tz": -420
    },
    "id": "Xo5BWkLlKQru",
    "outputId": "0bb34625-ce1c-46a5-fa6c-018d5aff727a"
   },
   "outputs": [
    {
     "data": {
      "image/png": "[encoded data removed]",
      "text/plain": [
       "<Figure size 1080x360 with 1 Axes>"
      ]
     },
     "metadata": {
      "needs_background": "light"
     },
     "output_type": "display_data"
    }
   ],
   "source": [
    "rate_product = df.groupby('Product line', as_index=False)['Rating'].mean()\n",
    "\n",
    "plt.figure(figsize=(15,5))\n",
    "ax = sns.barplot(x='Product line', y='Rating', data=rate_product.sort_values('Rating', ascending=False))\n",
    "for bar in ax.patches:\n",
    "    ax.annotate(format(bar.get_height(), '.2f'),(bar.get_x() + bar.get_width() / 2,bar.get_height()), \n",
    "                 ha='center', va='center', xytext=(0, 5),textcoords='offset points')\n",
    "plt.title('Rating per Product line')\n",
    "plt.show()"
   ]
  },
  {
   "cell_type": "markdown",
   "metadata": {
    "id": "iWHRkt_2Ge0J"
   },
   "source": [
    "### **4. Which product line are not selling well?**\n",
    "\n"
   ]
  },
  {
   "cell_type": "code",
   "execution_count": 27,
   "metadata": {
    "colab": {
     "base_uri": "https://localhost:8080/"
    },
    "executionInfo": {
     "elapsed": 52,
     "status": "ok",
     "timestamp": 1675937695753,
     "user": {
      "displayName": "Aliffian Wahyu",
      "userId": "13755439147534261633"
     },
     "user_tz": -420
    },
    "id": "po_Umz8m10W6",
    "outputId": "3e219eb6-d62d-4817-9c66-9a6e437380d5"
   },
   "outputs": [
    {
     "data": {
      "image/png": "[encoded data removed]",
      "text/plain": [
       "<Figure size 1080x360 with 1 Axes>"
      ]
     },
     "metadata": {
      "needs_background": "light"
     },
     "output_type": "display_data"
    }
   ],
   "source": [
    "product = df.groupby('Product line', as_index=False)['Quantity'].sum()\n",
    "\n",
    "plt.figure(figsize= (15,5))\n",
    "ax = sns.barplot(x='Product line', y='Quantity', data=product.sort_values('Quantity', ascending=False))\n",
    "for bar in ax.patches:\n",
    "    ax.annotate(format(bar.get_height(), '.0f'),(bar.get_x() + bar.get_width() / 2,bar.get_height()), \n",
    "                 ha='center', va='center', xytext=(0, 5),textcoords='offset points')\n",
    "plt.title('Total Products Sales')\n",
    "plt.ylabel('Unit of goods')\n",
    "plt.show()"
   ]
  },
  {
   "cell_type": "markdown",
   "metadata": {
    "id": "Ap7Vqq3B25yF"
   },
   "source": [
    "### **5. Which product line are not selling well by city?**\n",
    "\n"
   ]
  },
  {
   "cell_type": "code",
   "execution_count": 26,
   "metadata": {
    "colab": {
     "base_uri": "https://localhost:8080/"
    },
    "executionInfo": {
     "elapsed": 48,
     "status": "ok",
     "timestamp": 1675937695755,
     "user": {
      "displayName": "Aliffian Wahyu",
      "userId": "13755439147534261633"
     },
     "user_tz": -420
    },
    "id": "jHTTeuR4pSjB",
    "outputId": "a6a84049-0d89-4bc1-c1b7-8af0059f5a7f"
   },
   "outputs": [
    {
     "data": {
      "image/png": "[encoded data removed]",
      "text/plain": [
       "<Figure size 1080x360 with 1 Axes>"
      ]
     },
     "metadata": {
      "needs_background": "light"
     },
     "output_type": "display_data"
    }
   ],
   "source": [
    "product_city = df.groupby(['Product line','City'], as_index=False)['Quantity'].sum()\n",
    "\n",
    "plt.figure(figsize=(15,5))\n",
    "ax = sns.barplot(x='City', y='Quantity', hue='Product line', data=product_city.sort_values('Quantity', ascending=False))\n",
    "for bar in ax.patches:\n",
    "    ax.annotate(format(bar.get_height(), '.0f'),(bar.get_x() + bar.get_width() / 2,bar.get_height()), \n",
    "                 ha='center', va='center', xytext=(0, 5),textcoords='offset points')\n",
    "plt.title('Total Products Sales by City')\n",
    "plt.ylabel('Unit of goods')\n",
    "plt.legend(loc='center left', bbox_to_anchor=(1, 0.5))\n",
    "plt.show()"
   ]
  },
  {
   "cell_type": "markdown",
   "metadata": {
    "id": "wEECcm-zLzZu"
   },
   "source": [
    "### **6. Unit price per product line**"
   ]
  },
  {
   "cell_type": "code",
   "execution_count": 28,
   "metadata": {
    "colab": {
     "base_uri": "https://localhost:8080/"
    },
    "executionInfo": {
     "elapsed": 1251,
     "status": "ok",
     "timestamp": 1675937696963,
     "user": {
      "displayName": "Aliffian Wahyu",
      "userId": "13755439147534261633"
     },
     "user_tz": -420
    },
    "id": "igIY_FRjL9wz",
    "outputId": "e67271e3-97bc-4df6-dcf1-d80d694dc14e"
   },
   "outputs": [
    {
     "data": {
      "image/png": "[encoded data removed]",
      "text/plain": [
       "<Figure size 1080x360 with 1 Axes>"
      ]
     },
     "metadata": {
      "needs_background": "light"
     },
     "output_type": "display_data"
    }
   ],
   "source": [
    "product_price = df.groupby('Product line', as_index=False)['Unit price'].mean()\n",
    "\n",
    "plt.figure(figsize=(15,5))\n",
    "ax = sns.barplot(x='Product line', y='Unit price', data=product_price.sort_values('Unit price', ascending=False))\n",
    "for bar in ax.patches:\n",
    "    ax.annotate(format(bar.get_height(), '.2f'),(bar.get_x() + bar.get_width() / 2,bar.get_height()), \n",
    "                 ha='center', va='center', xytext=(0, 5),textcoords='offset points')\n",
    "plt.title('Unit Price per Product line')\n",
    "plt.show()"
   ]
  },
  {
   "cell_type": "markdown",
   "metadata": {
    "id": "kFJwcmOvOiRL"
   },
   "source": [
    "### **7. Rating by city**\n",
    "\n"
   ]
  },
  {
   "cell_type": "code",
   "execution_count": 29,
   "metadata": {
    "colab": {
     "base_uri": "https://localhost:8080/"
    },
    "executionInfo": {
     "elapsed": 34,
     "status": "ok",
     "timestamp": 1675937696964,
     "user": {
      "displayName": "Aliffian Wahyu",
      "userId": "13755439147534261633"
     },
     "user_tz": -420
    },
    "id": "TGNfwWcVOmjF",
    "outputId": "1069d9a2-2660-428d-953c-0d13c870efb7"
   },
   "outputs": [
    {
     "data": {
      "image/png": "[encoded data removed]",
      "text/plain": [
       "<Figure size 504x360 with 1 Axes>"
      ]
     },
     "metadata": {
      "needs_background": "light"
     },
     "output_type": "display_data"
    }
   ],
   "source": [
    "rate_city = df.groupby('City', as_index=False)['Rating'].mean()\n",
    "\n",
    "plt.figure(figsize=(7,5))\n",
    "ax = sns.barplot(x='City', y='Rating', data=rate_city.sort_values('Rating', ascending=False))\n",
    "for bar in ax.patches:\n",
    "    ax.annotate(format(bar.get_height(), '.2f'),(bar.get_x() + bar.get_width() / 2,bar.get_height()), \n",
    "                 ha='center', va='center', xytext=(0, 5),textcoords='offset points')\n",
    "plt.title('Rating by City')\n",
    "plt.show()"
   ]
  },
  {
   "cell_type": "markdown",
   "metadata": {
    "id": "E73iWznKPNCL"
   },
   "source": [
    "### **8. Revenue by city**"
   ]
  },
  {
   "cell_type": "code",
   "execution_count": 30,
   "metadata": {
    "colab": {
     "base_uri": "https://localhost:8080/"
    },
    "executionInfo": {
     "elapsed": 1092,
     "status": "ok",
     "timestamp": 1675937698026,
     "user": {
      "displayName": "Aliffian Wahyu",
      "userId": "13755439147534261633"
     },
     "user_tz": -420
    },
    "id": "dVie6rcIPRXu",
    "outputId": "c46f273f-9a1d-42e8-af02-143408b94b66"
   },
   "outputs": [
    {
     "data": {
      "image/png": "[encoded data removed]",
      "text/plain": [
       "<Figure size 504x360 with 1 Axes>"
      ]
     },
     "metadata": {
      "needs_background": "light"
     },
     "output_type": "display_data"
    }
   ],
   "source": [
    "city_rev = df.groupby('City', as_index=False)['Revenue'].sum()\n",
    "\n",
    "plt.figure(figsize=(7,5))\n",
    "ax = sns.barplot(x='City', y='Revenue', data=city_rev.sort_values('Revenue', ascending=False))\n",
    "for bar in ax.patches:\n",
    "    ax.annotate(format(bar.get_height(), '.0f'),(bar.get_x() + bar.get_width() / 2,bar.get_height()), \n",
    "                 ha='center', va='center', xytext=(0, 5),textcoords='offset points')\n",
    "plt.title('Revenue by City')\n",
    "plt.ylabel('Revenue($)')\n",
    "plt.show()"
   ]
  },
  {
   "cell_type": "markdown",
   "metadata": {
    "id": "1MI8IbJKE82i"
   },
   "source": [
    "### **9. Rating by customer**"
   ]
  },
  {
   "cell_type": "code",
   "execution_count": 31,
   "metadata": {
    "colab": {
     "base_uri": "https://localhost:8080/"
    },
    "executionInfo": {
     "elapsed": 99,
     "status": "ok",
     "timestamp": 1675937698028,
     "user": {
      "displayName": "Aliffian Wahyu",
      "userId": "13755439147534261633"
     },
     "user_tz": -420
    },
    "id": "MdCP4Z9HC0Vb",
    "outputId": "1d61c13f-b8f0-4a5a-d415-946e04f21fef"
   },
   "outputs": [
    {
     "data": {
      "image/png": "[encoded data removed]",
      "text/plain": [
       "<Figure size 360x360 with 1 Axes>"
      ]
     },
     "metadata": {
      "needs_background": "light"
     },
     "output_type": "display_data"
    }
   ],
   "source": [
    "rate = df.groupby('Customer type', as_index=False)['Rating'].mean()\n",
    "\n",
    "plt.figure(figsize=(5,5))\n",
    "ax = sns.barplot(x='Customer type', y='Rating', data=rate)\n",
    "for bar in ax.patches:\n",
    "    ax.annotate(format(bar.get_height(), '.2f'),(bar.get_x() + bar.get_width() / 2,bar.get_height()), \n",
    "                 ha='center', va='center', xytext=(0, 5),textcoords='offset points')\n",
    "plt.title('Rating by Customer')\n",
    "plt.show()"
   ]
  },
  {
   "cell_type": "markdown",
   "metadata": {
    "id": "hDV7avRhNG98"
   },
   "source": [
    "### **10. Rating distribution by customer**"
   ]
  },
  {
   "cell_type": "code",
   "execution_count": 33,
   "metadata": {
    "colab": {
     "base_uri": "https://localhost:8080/",
     "height": 454
    },
    "executionInfo": {
     "elapsed": 98,
     "status": "ok",
     "timestamp": 1675937698030,
     "user": {
      "displayName": "Aliffian Wahyu",
      "userId": "13755439147534261633"
     },
     "user_tz": -420
    },
    "id": "0nyabKS8pErJ",
    "outputId": "de4751be-9124-4e6c-ed94-a5475f1b1588"
   },
   "outputs": [
    {
     "name": "stderr",
     "output_type": "stream",
     "text": [
      "C:\\Users\\Lenovo\\AppData\\Local\\Temp\\ipykernel_5272\\3813463722.py:2: SettingWithCopyWarning: \n",
      "A value is trying to be set on a copy of a slice from a DataFrame.\n",
      "Try using .loc[row_indexer,col_indexer] = value instead\n",
      "\n",
      "See the caveats in the documentation: https://pandas.pydata.org/pandas-docs/stable/user_guide/indexing.html#returning-a-view-versus-a-copy\n",
      "  rate_cust['Rating'] = round(rate_cust['Rating'])\n"
     ]
    },
    {
     "data": {
      "image/png": "[encoded data removed]",
      "text/plain": [
       "<Figure size 720x360 with 1 Axes>"
      ]
     },
     "metadata": {
      "needs_background": "light"
     },
     "output_type": "display_data"
    }
   ],
   "source": [
    "rate_cust = df[['Customer type','Rating','Invoice ID']]\n",
    "rate_cust['Rating'] = round(rate_cust['Rating'])\n",
    "\n",
    "rate_cust = rate_cust.groupby(['Customer type','Rating'], as_index=False)['Invoice ID'].nunique()\n",
    "\n",
    "plt.figure(figsize=(10,5))\n",
    "ax = sns.barplot(x='Customer type', y='Invoice ID', hue='Rating', data=rate_cust, ci = None)\n",
    "for bar in ax.patches:\n",
    "    ax.annotate(format(bar.get_height(), '.0f'),(bar.get_x() + bar.get_width() / 2,bar.get_height()), \n",
    "                 ha='center', va='center', xytext=(0, 5),textcoords='offset points')\n",
    "plt.title('Rating distribution by customer')\n",
    "plt.ylabel('Count Transaction')\n",
    "plt.legend(title='Rating', loc='center left', bbox_to_anchor=(1, 0.5))\n",
    "plt.show()"
   ]
  },
  {
   "cell_type": "markdown",
   "metadata": {
    "id": "bAktlF2AfL7Y"
   },
   "source": [
    "### **11. Customer transaction**"
   ]
  },
  {
   "cell_type": "code",
   "execution_count": 37,
   "metadata": {
    "colab": {
     "base_uri": "https://localhost:8080/"
    },
    "executionInfo": {
     "elapsed": 93,
     "status": "ok",
     "timestamp": 1675937698031,
     "user": {
      "displayName": "Aliffian Wahyu",
      "userId": "13755439147534261633"
     },
     "user_tz": -420
    },
    "id": "XzgVxUWbfn9y",
    "outputId": "0f485f10-bc24-46c4-de41-3bf50a8bba89"
   },
   "outputs": [
    {
     "data": {
      "image/png": "[encoded data removed]",
      "text/plain": [
       "<Figure size 360x360 with 1 Axes>"
      ]
     },
     "metadata": {
      "needs_background": "light"
     },
     "output_type": "display_data"
    }
   ],
   "source": [
    "cust_tran = df.groupby('Customer type', as_index=False)['Invoice ID'].nunique()\n",
    "\n",
    "plt.figure(figsize=(5,5))\n",
    "ax = sns.barplot(x='Customer type', y='Invoice ID', data=cust_tran.sort_values('Invoice ID', ascending=False))\n",
    "for bar in ax.patches:\n",
    "    ax.annotate(format(bar.get_height(), '.0f'),(bar.get_x() + bar.get_width() / 2,bar.get_height()), \n",
    "                 ha='center', va='center', xytext=(0, 5),textcoords='offset points')\n",
    "plt.title('Customer Transaction')\n",
    "plt.ylabel('Count transaction')\n",
    "plt.show()"
   ]
  },
  {
   "cell_type": "markdown",
   "metadata": {
    "id": "M2ztqQDchJBx"
   },
   "source": [
    "### **12. Customer revenue**"
   ]
  },
  {
   "cell_type": "code",
   "execution_count": 36,
   "metadata": {
    "colab": {
     "base_uri": "https://localhost:8080/"
    },
    "executionInfo": {
     "elapsed": 90,
     "status": "ok",
     "timestamp": 1675937698032,
     "user": {
      "displayName": "Aliffian Wahyu",
      "userId": "13755439147534261633"
     },
     "user_tz": -420
    },
    "id": "xKZpjfS6hMWz",
    "outputId": "b52fa10a-06fc-463a-e10e-97af71ff3f97"
   },
   "outputs": [
    {
     "data": {
      "image/png": "[encoded data removed]",
      "text/plain": [
       "<Figure size 360x360 with 1 Axes>"
      ]
     },
     "metadata": {
      "needs_background": "light"
     },
     "output_type": "display_data"
    }
   ],
   "source": [
    "cust_rev = df.groupby('Customer type', as_index=False)['Revenue'].sum()\n",
    "\n",
    "plt.figure(figsize=(5,5))\n",
    "ax = sns.barplot(x='Customer type', y='Revenue', data=cust_rev.sort_values('Revenue', ascending=False))\n",
    "for bar in ax.patches:\n",
    "    ax.annotate(format(bar.get_height(), '.0f'),(bar.get_x() + bar.get_width() / 2,bar.get_height()), \n",
    "                 ha='center', va='center', xytext=(0, 5),textcoords='offset points')\n",
    "plt.title('Customer Revenue')\n",
    "plt.ylabel('Revenue($)')\n",
    "plt.show()"
   ]
  },
  {
   "cell_type": "markdown",
   "metadata": {
    "id": "HlZnqpNidHJh"
   },
   "source": [
    "### **13. Most customer transaction type by payment**"
   ]
  },
  {
   "cell_type": "code",
   "execution_count": 38,
   "metadata": {
    "colab": {
     "base_uri": "https://localhost:8080/"
    },
    "executionInfo": {
     "elapsed": 89,
     "status": "ok",
     "timestamp": 1675937698033,
     "user": {
      "displayName": "Aliffian Wahyu",
      "userId": "13755439147534261633"
     },
     "user_tz": -420
    },
    "id": "AmgSkcIcdHJi",
    "outputId": "7e7a5c6f-67d9-4967-a6cd-fe3b249bbde1"
   },
   "outputs": [
    {
     "data": {
      "image/png": "[encoded data removed]",
      "text/plain": [
       "<Figure size 504x360 with 1 Axes>"
      ]
     },
     "metadata": {
      "needs_background": "light"
     },
     "output_type": "display_data"
    }
   ],
   "source": [
    "cust_pay = df.groupby(['Payment','Customer type'], as_index=False)['Invoice ID'].nunique()\n",
    "\n",
    "plt.figure(2, figsize=(7, 5))\n",
    "ax = sns.barplot(x='Customer type', y='Invoice ID', hue='Payment', data=cust_pay, ci = None)\n",
    "for bar in ax.patches:\n",
    "    ax.annotate(format(bar.get_height(), '.0f'),(bar.get_x() + bar.get_width() / 2,bar.get_height()), \n",
    "                 ha='center', va='center', xytext=(0, 5),textcoords='offset points')\n",
    "plt.title('Most Customer Transaction type by Payment')\n",
    "plt.ylabel('Count transaction')\n",
    "plt.legend(loc='center left', bbox_to_anchor=(1, 0.5))\n",
    "plt.show()"
   ]
  },
  {
   "cell_type": "markdown",
   "metadata": {
    "id": "L0neZVd5slhw"
   },
   "source": [
    "### **14. Most shopping activity**"
   ]
  },
  {
   "cell_type": "code",
   "execution_count": 39,
   "metadata": {
    "colab": {
     "base_uri": "https://localhost:8080/",
     "height": 350
    },
    "executionInfo": {
     "elapsed": 547,
     "status": "ok",
     "timestamp": 1675937698494,
     "user": {
      "displayName": "Aliffian Wahyu",
      "userId": "13755439147534261633"
     },
     "user_tz": -420
    },
    "id": "ZZgiaZ5LuDP6",
    "outputId": "d1520896-b5e9-4146-c3fa-20d211608a90"
   },
   "outputs": [
    {
     "data": {
      "image/png": "[encoded data removed]",
      "text/plain": [
       "<Figure size 1080x360 with 1 Axes>"
      ]
     },
     "metadata": {
      "needs_background": "light"
     },
     "output_type": "display_data"
    }
   ],
   "source": [
    "hour = df.groupby(['Hour','City'], as_index=False)['Invoice ID'].nunique()\n",
    "\n",
    "plt.figure(figsize=(15,5))\n",
    "sns.lineplot(x='Hour', y='Invoice ID', data=hour, ci=None)\n",
    "plt.title('Sales Transaction Trends per Hour')\n",
    "plt.ylabel('Count transaction')\n",
    "plt.grid()\n",
    "plt.show()"
   ]
  },
  {
   "cell_type": "code",
   "execution_count": null,
   "metadata": {},
   "outputs": [],
   "source": []
  }
 ],
 "metadata": {
  "colab": {
   "authorship_tag": "ABX9TyNTSWmp93IkLPnamwdXHxZ5",
   "mount_file_id": "1RzjjXs0aaltsjsfrpOso9ehRhx_9qxEJ",
   "provenance": []
  },
  "kernelspec": {
   "display_name": "Python 3 (ipykernel)",
   "language": "python",
   "name": "python3"
  },
  "language_info": {
   "codemirror_mode": {
    "name": "ipython",
    "version": 3
   },
   "file_extension": ".py",
   "mimetype": "text/x-python",
   "name": "python",
   "nbconvert_exporter": "python",
   "pygments_lexer": "ipython3",
   "version": "3.9.7"
  }
 },
 "nbformat": 4,
 "nbformat_minor": 1
}
